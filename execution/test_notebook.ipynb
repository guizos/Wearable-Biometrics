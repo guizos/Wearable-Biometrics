{
 "cells": [
  {
   "cell_type": "markdown",
   "metadata": {},
   "source": [
    "# Example experiment.\n",
    "\n",
    "Example that shows how an experiment is executed with our code"
   ]
  },
  {
   "cell_type": "markdown",
   "metadata": {},
   "source": [
    "First we load the files into memory. We only need to do this once. "
   ]
  },
  {
   "cell_type": "code",
   "execution_count": 1,
   "metadata": {
    "collapsed": false
   },
   "outputs": [
    {
     "name": "stdout",
     "output_type": "stream",
     "text": [
      "Done reading data folder\n"
     ]
    }
   ],
   "source": [
    "from data import source\n",
    "#Read the data folder\n",
    "data_folder = source.PumpPrimingDataFolder(\"dataset_activity1\")\n",
    "print \"Done reading data folder\""
   ]
  },
  {
   "cell_type": "markdown",
   "metadata": {},
   "source": [
    "Now we just need to preprocess and generate features"
   ]
  },
  {
   "cell_type": "code",
   "execution_count": 2,
   "metadata": {
    "collapsed": false
   },
   "outputs": [
    {
     "name": "stdout",
     "output_type": "stream",
     "text": [
      "Preprocessing done\n"
     ]
    }
   ],
   "source": [
    "from data.preprocessing.preprocessor import Preprocessor \n",
    "\n",
    "preprocessor = Preprocessor(ppg=[[\"subset\",{\"start\":500,\"end\":-200}],\n",
    "                                 [\"savitzky_golay\",{'window_size':5, 'order':2, 'deriv':0, 'rate':1}],\n",
    "                                 [\"normf\", {}]],\n",
    "                            ecg=[[\"subset\",{\"start\":500,\"end\":-200}],\n",
    "                                 [\"savitzky_golay\",{'window_size':5, 'order':2, 'deriv':0, 'rate':1}],\n",
    "                                 [\"normf\", {}]])\n",
    "\n",
    "preprocessed_datafolder = preprocessor.preprocess_datafolder(data_folder)\n",
    "print \"Preprocessing done\""
   ]
  },
  {
   "cell_type": "code",
   "execution_count": 3,
   "metadata": {
    "collapsed": true
   },
   "outputs": [
    {
     "name": "stdout",
     "output_type": "stream",
     "text": [
      "Segmentation done\n"
     ]
    }
   ],
   "source": [
    "from data.segmentation.segmenter import Segmenter\n",
    "\n",
    "segmenter = Segmenter(datafile=[\"t40_beat_segmentation\",{'frequency':100}])\n",
    "\n",
    "segmented_datafolder = segmenter.segment_datafolder(preprocessed_datafolder)\n",
    "print \"Segmentation done\""
   ]
  },
  {
   "cell_type": "code",
   "execution_count": 4,
   "metadata": {
    "collapsed": true
   },
   "outputs": [
    {
     "ename": "AttributeError",
     "evalue": "Dataset instance has no attribute 'split_dataset'",
     "traceback": [
      "\u001b[0;31m---------------------------------------------------------------------------\u001b[0m",
      "\u001b[0;31mAttributeError\u001b[0m                            Traceback (most recent call last)",
      "\u001b[0;32m<ipython-input-4-fde9aa5a50ad>\u001b[0m in \u001b[0;36m<module>\u001b[0;34m()\u001b[0m\n\u001b[1;32m      4\u001b[0m \u001b[0mgenerator\u001b[0m \u001b[0;34m=\u001b[0m \u001b[0mFeatureGenerator\u001b[0m\u001b[0;34m(\u001b[0m\u001b[0msegmented_datafolder\u001b[0m\u001b[0;34m=\u001b[0m\u001b[0msegmented_datafolder\u001b[0m\u001b[0;34m)\u001b[0m\u001b[0;34m\u001b[0m\u001b[0m\n\u001b[1;32m      5\u001b[0m \u001b[0mdataset\u001b[0m \u001b[0;34m=\u001b[0m \u001b[0mgenerator\u001b[0m\u001b[0;34m.\u001b[0m\u001b[0mgenerate_dataset\u001b[0m\u001b[0;34m(\u001b[0m\u001b[0mexample_feature_generation_function\u001b[0m\u001b[0;34m)\u001b[0m\u001b[0;34m\u001b[0m\u001b[0m\n\u001b[0;32m----> 6\u001b[0;31m \u001b[0mtrain\u001b[0m\u001b[0;34m,\u001b[0m \u001b[0mtest\u001b[0m \u001b[0;34m=\u001b[0m \u001b[0mdataset\u001b[0m\u001b[0;34m.\u001b[0m\u001b[0msplit_dataset\u001b[0m\u001b[0;34m(\u001b[0m\u001b[0;36m10\u001b[0m\u001b[0;34m,\u001b[0m\u001b[0mdataset\u001b[0m\u001b[0;34m.\u001b[0m\u001b[0mfeature_vectors\u001b[0m\u001b[0;34m[\u001b[0m\u001b[0;36m0\u001b[0m\u001b[0;34m]\u001b[0m\u001b[0;34m.\u001b[0m\u001b[0mlabel\u001b[0m\u001b[0;34m)\u001b[0m\u001b[0;34m\u001b[0m\u001b[0m\n\u001b[0m\u001b[1;32m      7\u001b[0m \u001b[0;32mprint\u001b[0m \u001b[0;34m\"Features extracted\"\u001b[0m\u001b[0;34m\u001b[0m\u001b[0m\n",
      "\u001b[0;31mAttributeError\u001b[0m: Dataset instance has no attribute 'split_dataset'"
     ],
     "output_type": "error"
    }
   ],
   "source": [
    "from data.features.generator import FeatureGenerator\n",
    "from data.features.generator import example_feature_generation_function\n",
    "\n",
    "generator = FeatureGenerator(segmented_datafolder=segmented_datafolder)\n",
    "dataset = generator.generate_dataset(example_feature_generation_function)\n",
    "train, test = dataset.split_dataset(10,dataset.feature_vectors[0].label)\n",
    "print \"Features extracted\""
   ]
  },
  {
   "cell_type": "code",
   "execution_count": 11,
   "metadata": {
    "collapsed": false
   },
   "outputs": [],
   "source": [
    "import matplotlib.pyplot as plt\n",
    "plt.plot(dataset.feature_vectors[0].features)\n",
    "plt.plot(dataset.feature_vectors[1].features)\n",
    "plt.show()"
   ]
  }
 ],
 "metadata": {
  "kernelspec": {
   "display_name": "Python 2",
   "language": "python",
   "name": "python2"
  },
  "language_info": {
   "codemirror_mode": {
    "name": "ipython",
    "version": 2.0
   },
   "file_extension": ".py",
   "mimetype": "text/x-python",
   "name": "python",
   "nbconvert_exporter": "python",
   "pygments_lexer": "ipython2",
   "version": "2.7.10"
  }
 },
 "nbformat": 4,
 "nbformat_minor": 0
}